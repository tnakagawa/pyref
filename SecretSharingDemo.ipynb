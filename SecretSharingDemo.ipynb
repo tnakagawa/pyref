{
  "nbformat": 4,
  "nbformat_minor": 0,
  "metadata": {
    "colab": {
      "name": "SecretSharingDemo.ipynb",
      "version": "0.3.2",
      "provenance": [],
      "include_colab_link": true
    },
    "kernelspec": {
      "name": "python3",
      "display_name": "Python 3"
    }
  },
  "cells": [
    {
      "cell_type": "markdown",
      "metadata": {
        "id": "view-in-github",
        "colab_type": "text"
      },
      "source": [
        "<a href=\"https://colab.research.google.com/github/tnakagawa/pyref/blob/master/SecretSharingDemo.ipynb\" target=\"_parent\"><img src=\"https://colab.research.google.com/assets/colab-badge.svg\" alt=\"Open In Colab\"/></a>"
      ]
    },
    {
      "cell_type": "markdown",
      "metadata": {
        "id": "Kx1jAwfGzWpZ",
        "colab_type": "text"
      },
      "source": [
        "# ディーラ型の秘密分散"
      ]
    },
    {
      "cell_type": "code",
      "metadata": {
        "id": "XF_mk6h0zUyr",
        "colab_type": "code",
        "outputId": "868e3420-78c6-4031-ccf8-d7396331cfe5",
        "colab": {
          "base_uri": "https://localhost:8080/",
          "height": 34
        }
      },
      "source": [
        "import random\n",
        "\n",
        "print(\"----- #0 init -----\")\n",
        "p = 9999991\n",
        "n = 10\n",
        "m = 5\n",
        "print(\"p = {}\".format(p))\n",
        "print(\"n = {}\".format(n))\n",
        "print(\"m = {}\".format(m))\n",
        "\n",
        "print(\"----- #1 secret & random\")\n",
        "a = [0]*(m)\n",
        "for i in range(m):\n",
        "  a[i] = random.randint(2, p-1)\n",
        "print(\"a = {}\".format(a))\n",
        "s = a[0]\n",
        "print(\"s = {}\".format(s))\n",
        "\n",
        "print(\"----- #2 f(x)\")\n",
        "def f(x, p):\n",
        "  if x == 0:\n",
        "      return 0\n",
        "  y = 0\n",
        "  for i in range(len(a)):\n",
        "      y += a[i]*pow(x, i, p)\n",
        "  return y % p\n",
        "\n",
        "print(\"----- #3 point\")\n",
        "class point:\n",
        "  def __init__(self, x, y):\n",
        "      self.x = x\n",
        "      self.y = y\n",
        "\n",
        "  def __str__(self):\n",
        "      return \"({},{})\".format(self.x, self.y)\n",
        "\n",
        "\n",
        "\n",
        "print(\"----- #4 dealer -> player\")\n",
        "u = [0]*n\n",
        "for i in range(n):\n",
        "  u[i] = point(i+1, f(i+1, p))\n",
        "  print(\"{} -> player{}\".format(u[i], i+1))\n",
        "\n",
        "print(\"----- #5 Make secret\")\n",
        "for i in range(n-m):\n",
        "  del u[random.randint(0, len(u)-1)]\n",
        "for i in range(len(u)):\n",
        "  print(\"player{} : {}\".format(u[i].x, u[i]))\n",
        "\n",
        "print(\"----- #6 Lagrange\")\n",
        "def Lagrange(p, u):\n",
        "  s = 0\n",
        "  for i in range(len(u)):\n",
        "      t = u[i].y\n",
        "      for j in range(len(u)):\n",
        "          if i != j:\n",
        "              t *= u[j].x*pow(u[j].x-u[i].x, p-2, p)\n",
        "      s += t % p\n",
        "      s = s % p\n",
        "  return s\n",
        "\n",
        "print(\"----- #7 Result\")\n",
        "l = Lagrange(p, u)\n",
        "print(\"s = {}\".format(l))\n",
        "\n",
        "if s == l:\n",
        "  print(\"Match (^^)\")\n",
        "else:\n",
        "  print(\"Unmatch (TT)\")\n",
        "\n",
        "\n"
      ],
      "execution_count": 1,
      "outputs": [
        {
          "output_type": "stream",
          "text": [
            "init\n"
          ],
          "name": "stdout"
        }
      ]
    }
  ]
}